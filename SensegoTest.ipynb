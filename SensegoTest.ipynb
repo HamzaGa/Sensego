{
 "cells": [
  {
   "cell_type": "markdown",
   "metadata": {},
   "source": [
    "# Sensego Test"
   ]
  },
  {
   "cell_type": "markdown",
   "metadata": {},
   "source": [
    "    Importing the needed modules"
   ]
  },
  {
   "cell_type": "code",
   "execution_count": 4,
   "metadata": {},
   "outputs": [],
   "source": [
    "import requests\n",
    "import json\n",
    "import datetime"
   ]
  },
  {
   "cell_type": "markdown",
   "metadata": {},
   "source": [
    "    This is the definition of the function used to update a user's behavioral profile"
   ]
  },
  {
   "cell_type": "code",
   "execution_count": 29,
   "metadata": {
    "scrolled": true
   },
   "outputs": [
    {
     "name": "stdout",
     "output_type": "stream",
     "text": [
      " Number of Launched apps : 2\n",
      " Number of active days in the last seven days : 2\n",
      " The most launched app in the past 7 days : Facebook\n",
      " The most active day in the past 7 days : 2018-12-04\n",
      "Update status : 200\n"
     ]
    }
   ],
   "source": [
    "def userProfileUpdate(userId):\n",
    "    '''Retrieving behavioral stats of users '''\n",
    "    url=\"http://my-json-server.typicode.com/HamzaGa/Sensego/app/\"\n",
    "    r = requests.get(url)\n",
    "    data = json.loads(r.text)\n",
    "    \n",
    "    \n",
    "    userData=[] # This list will contain the behavioral stats of the user passed in the method parameters\n",
    "    for d in data:\n",
    "        if(d[\"id\"]==userId):\n",
    "            userData.append(d)\n",
    "            \n",
    "            \n",
    "            \n",
    "    #Getting the list of all the launched apps by the user passed in the method parameters \n",
    "    appsLaunched=[]\n",
    "    for row in userData:\n",
    "        if(row[\"app\"] not in appsLaunched):\n",
    "            appsLaunched.append(row[\"app\"])\n",
    "    numberOfLaunchedApps = len(appsLaunched) # Nubmer of the launched apps by our user\n",
    "    \n",
    "    print(\" Number of Launched apps : \"+str(numberOfLaunchedApps))\n",
    "    \n",
    "    # This bloc extracts the launched apps of our user in the last seven days \n",
    "    lastSevenDatesDate=(datetime.datetime.now() - datetime.timedelta(days=7)).date()\n",
    "    todaysDate=datetime.datetime.now().date()\n",
    "    format_str = '%Y-%m-%d'\n",
    "    userLaunchedApps={}\n",
    "    activeDates={}\n",
    "    activeDatesLastSevenDays = set()\n",
    "    \n",
    "    # Initialisation of a list of dicts that contains all the launched apps with frequency == 0 \n",
    "    for row in userData:\n",
    "        userLaunchedApps.update({row[\"app\"]:0}) \n",
    "        appLaunchDate = row[\"timestamp\"].split(\"T\")\n",
    "        appLaunchDate= datetime.datetime.strptime(appLaunchDate[0], format_str).date()\n",
    "        activeDates.update({appLaunchDate:0}) \n",
    "\n",
    "    for row in userData:\n",
    "        appLaunchDate = row[\"timestamp\"].split(\"T\")\n",
    "        appLaunchDate= datetime.datetime.strptime(appLaunchDate[0], format_str).date()\n",
    "        if(lastSevenDatesDate<appLaunchDate<todaysDate):\n",
    "            # Updating the frequency of an app launch in the past 7 days\n",
    "            userLaunchedApps.update({row[\"app\"]:userLaunchedApps[row[\"app\"]]+1}) \n",
    "            # This is for saving the date of days in which the user was active in the last 7 days \n",
    "            activeDatesLastSevenDays.add(appLaunchDate)\n",
    "            \n",
    "            activeDates.update({appLaunchDate:activeDates[appLaunchDate]+1}) \n",
    "            \n",
    "            \n",
    "    \n",
    "    numberOfActiveDatesLastSevenDays=len(activeDatesLastSevenDays)\n",
    "    \n",
    "    print(\" Number of active days in the last seven days : \"+str(numberOfLaunchedApps))\n",
    "\n",
    "        \n",
    "    #This bloc is for extracting the most launched app in the past 7 days\n",
    "    x=0\n",
    "    for k , v in userLaunchedApps.items():\n",
    "        if(v>x):\n",
    "            x=v\n",
    "            mostLaunchedAppLastSevenDays=k\n",
    "            \n",
    "    print(\" The most launched app in the past 7 days : \"+str(mostLaunchedAppLastSevenDays))\n",
    "            \n",
    "    #This bloc is for extracting the most launched app in the past 7 days\n",
    "    x=0\n",
    "    for k , v in activeDates.items():\n",
    "        if(v>x):\n",
    "            x=v\n",
    "            mostActiveDateLastSevenDays=k    \n",
    "            \n",
    "            \n",
    "    print(\" The most active day in the past 7 days : \"+str(mostActiveDateLastSevenDays))\n",
    "    \n",
    "    \n",
    "    #Sending the put request to update our user's behavioral profile\n",
    "    r = requests.put(\"http://my-json-server.typicode.com/HamzaGa/Sensego/user/019mr8mf4r\", json={'user_id': userId, 'app_launched': numberOfLaunchedApps, 'most_active_day_last_7_days': str(mostActiveDateLastSevenDays), 'number_of_days_active_last_7': numberOfActiveDatesLastSevenDays,'most_launched_app_last_7_days': mostLaunchedAppLastSevenDays})\n",
    "    print(\"Update status : \"+str(r.status_code))\n",
    "       \n",
    "        \n",
    "#Function call to update the behavioral profile of the user : 019mr8mf4r     \n",
    "userProfileUpdate(\"019mr8mf4r\")\n",
    "    "
   ]
  },
  {
   "cell_type": "code",
   "execution_count": null,
   "metadata": {},
   "outputs": [],
   "source": []
  },
  {
   "cell_type": "code",
   "execution_count": null,
   "metadata": {},
   "outputs": [],
   "source": []
  }
 ],
 "metadata": {
  "kernelspec": {
   "display_name": "Python 3",
   "language": "python",
   "name": "python3"
  },
  "language_info": {
   "codemirror_mode": {
    "name": "ipython",
    "version": 3
   },
   "file_extension": ".py",
   "mimetype": "text/x-python",
   "name": "python",
   "nbconvert_exporter": "python",
   "pygments_lexer": "ipython3",
   "version": "3.6.4"
  }
 },
 "nbformat": 4,
 "nbformat_minor": 2
}
